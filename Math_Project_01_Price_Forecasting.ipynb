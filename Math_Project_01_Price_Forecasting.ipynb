{
 "cells": [
  {
   "cell_type": "code",
   "execution_count": 1,
   "metadata": {},
   "outputs": [],
   "source": [
    "# Загрузка библиотек\n",
    "import numpy as np # для работы с массивами\n",
    "import pandas as pd # для работы с DataFrame \n",
    "from numpy.linalg import inv"
   ]
  },
  {
   "cell_type": "markdown",
   "metadata": {},
   "source": [
    "ЗАДАНИЕ 1"
   ]
  },
  {
   "cell_type": "markdown",
   "metadata": {},
   "source": [
    "Входные данные: матрицы  в виде numpy-массивов. Гарантируется, что их можно перемножить в порядке AxBxC."
   ]
  },
  {
   "cell_type": "markdown",
   "metadata": {},
   "source": [
    "Результат: напишите функцию multiplication_order(A, B, C), которая вернёт строку \"(AxB)xC\", если количество умножений элементов матриц при умножении  меньше либо равно количеству умножений, если выполнять их в порядке. В противном случае верните строку \"Ax(BxC)\"."
   ]
  },
  {
   "cell_type": "code",
   "execution_count": 2,
   "metadata": {},
   "outputs": [],
   "source": [
    "# Пример входных данных:\n",
    "A = np.array([[1,2]])\n",
    "B = np.array([[2], [1]])\n",
    "C = np.array([[5]])"
   ]
  },
  {
   "cell_type": "markdown",
   "metadata": {},
   "source": [
    "Пример результата: “(AxB)xC”"
   ]
  },
  {
   "cell_type": "code",
   "execution_count": 3,
   "metadata": {},
   "outputs": [],
   "source": [
    "def multiplication_order(A, B, C):\n",
    "    mult_num_A_B = A.shape[0]*B.shape[1]\n",
    "    new_mat = A@B \n",
    "    mult_num_new_mat_C = new_mat.shape[0]*B.shape[1]\n",
    "    mult_sum_1 = mult_num_A_B + mult_num_new_mat_C\n",
    "     \n",
    "    \n",
    "    \n",
    "    mult_num_B_C = B.shape[0]*C.shape[1]\n",
    "    new_mat = B@C\n",
    "    mult_num_new_mat_A = A.shape[0]*new_mat.shape[1]\n",
    "    mult_sum_2 = mult_num_B_C + mult_num_new_mat_A\n",
    "    \n",
    "    \n",
    "    \n",
    "    if mult_sum_1 <= mult_sum_2:\n",
    "        return '(AxB)xC'\n",
    "    else:\n",
    "        return 'Ax(BxC)'\n",
    "    "
   ]
  },
  {
   "cell_type": "code",
   "execution_count": 4,
   "metadata": {},
   "outputs": [
    {
     "data": {
      "text/plain": [
       "'(AxB)xC'"
      ]
     },
     "execution_count": 4,
     "metadata": {},
     "output_type": "execute_result"
    }
   ],
   "source": [
    "multiplication_order(A, B, C)\n"
   ]
  },
  {
   "cell_type": "markdown",
   "metadata": {},
   "source": [
    "ЗАДАНИЕ 2"
   ]
  },
  {
   "cell_type": "markdown",
   "metadata": {},
   "source": [
    "Входные данные: матрица признаков  в виде numpy-массива и вектор цен . Количество строк в матрице  совпадает с количеством элементов в векторе . Каждая строка матрицы описывает признаки одной квартиры, а соответствующий элемент в  равен цене квартиры."
   ]
  },
  {
   "cell_type": "markdown",
   "metadata": {},
   "source": [
    "Результат: напишите функцию best_worst(X, Y), которая вернёт два числа: max_corr_idx (номер признака, наиболее коррелирующего с ценой) и min_corr_idx (номер признака, наименее коррелирующего с ценой). Учитывайте, что корреляция имеет знак, а сила корреляции зависит от абсолютного значения — нужно вернуть наибольший и наименьший признаки по абсолютному значению."
   ]
  },
  {
   "cell_type": "code",
   "execution_count": 9,
   "metadata": {},
   "outputs": [],
   "source": [
    "data = pd.read_csv('data/Math_project1.csv', encoding='utf-8')"
   ]
  },
  {
   "cell_type": "code",
   "execution_count": 10,
   "metadata": {},
   "outputs": [
    {
     "data": {
      "text/html": [
       "<div>\n",
       "<style scoped>\n",
       "    .dataframe tbody tr th:only-of-type {\n",
       "        vertical-align: middle;\n",
       "    }\n",
       "\n",
       "    .dataframe tbody tr th {\n",
       "        vertical-align: top;\n",
       "    }\n",
       "\n",
       "    .dataframe thead th {\n",
       "        text-align: right;\n",
       "    }\n",
       "</style>\n",
       "<table border=\"1\" class=\"dataframe\">\n",
       "  <thead>\n",
       "    <tr style=\"text-align: right;\">\n",
       "      <th></th>\n",
       "      <th>Комнаты</th>\n",
       "      <th>Площадь</th>\n",
       "      <th>Этаж</th>\n",
       "      <th>Центр?</th>\n",
       "      <th>Спальный1?</th>\n",
       "      <th>Спальный 2?</th>\n",
       "      <th>Цена</th>\n",
       "    </tr>\n",
       "  </thead>\n",
       "  <tbody>\n",
       "    <tr>\n",
       "      <th>0</th>\n",
       "      <td>3</td>\n",
       "      <td>51</td>\n",
       "      <td>3</td>\n",
       "      <td>0</td>\n",
       "      <td>1</td>\n",
       "      <td>0</td>\n",
       "      <td>2200</td>\n",
       "    </tr>\n",
       "    <tr>\n",
       "      <th>1</th>\n",
       "      <td>1</td>\n",
       "      <td>30</td>\n",
       "      <td>1</td>\n",
       "      <td>0</td>\n",
       "      <td>1</td>\n",
       "      <td>0</td>\n",
       "      <td>1600</td>\n",
       "    </tr>\n",
       "    <tr>\n",
       "      <th>2</th>\n",
       "      <td>2</td>\n",
       "      <td>45</td>\n",
       "      <td>2</td>\n",
       "      <td>0</td>\n",
       "      <td>1</td>\n",
       "      <td>0</td>\n",
       "      <td>1900</td>\n",
       "    </tr>\n",
       "    <tr>\n",
       "      <th>3</th>\n",
       "      <td>3</td>\n",
       "      <td>55</td>\n",
       "      <td>1</td>\n",
       "      <td>0</td>\n",
       "      <td>1</td>\n",
       "      <td>0</td>\n",
       "      <td>2000</td>\n",
       "    </tr>\n",
       "    <tr>\n",
       "      <th>4</th>\n",
       "      <td>1</td>\n",
       "      <td>45</td>\n",
       "      <td>3</td>\n",
       "      <td>1</td>\n",
       "      <td>0</td>\n",
       "      <td>0</td>\n",
       "      <td>4500</td>\n",
       "    </tr>\n",
       "  </tbody>\n",
       "</table>\n",
       "</div>"
      ],
      "text/plain": [
       "   Комнаты  Площадь  Этаж  Центр?  Спальный1?  Спальный 2?  Цена\n",
       "0        3       51     3       0           1            0  2200\n",
       "1        1       30     1       0           1            0  1600\n",
       "2        2       45     2       0           1            0  1900\n",
       "3        3       55     1       0           1            0  2000\n",
       "4        1       45     3       1           0            0  4500"
      ]
     },
     "execution_count": 10,
     "metadata": {},
     "output_type": "execute_result"
    }
   ],
   "source": [
    "data.head()"
   ]
  },
  {
   "cell_type": "code",
   "execution_count": 11,
   "metadata": {},
   "outputs": [
    {
     "data": {
      "text/html": [
       "<div>\n",
       "<style scoped>\n",
       "    .dataframe tbody tr th:only-of-type {\n",
       "        vertical-align: middle;\n",
       "    }\n",
       "\n",
       "    .dataframe tbody tr th {\n",
       "        vertical-align: top;\n",
       "    }\n",
       "\n",
       "    .dataframe thead th {\n",
       "        text-align: right;\n",
       "    }\n",
       "</style>\n",
       "<table border=\"1\" class=\"dataframe\">\n",
       "  <thead>\n",
       "    <tr style=\"text-align: right;\">\n",
       "      <th></th>\n",
       "      <th>Комнаты</th>\n",
       "      <th>Площадь</th>\n",
       "      <th>Этаж</th>\n",
       "      <th>Центр?</th>\n",
       "      <th>Спальный1?</th>\n",
       "      <th>Спальный 2?</th>\n",
       "      <th>Цена</th>\n",
       "    </tr>\n",
       "  </thead>\n",
       "  <tbody>\n",
       "    <tr>\n",
       "      <th>Комнаты</th>\n",
       "      <td>1.000000e+00</td>\n",
       "      <td>0.660935</td>\n",
       "      <td>0.248747</td>\n",
       "      <td>1.328697e-17</td>\n",
       "      <td>0.221601</td>\n",
       "      <td>-0.221601</td>\n",
       "      <td>0.247668</td>\n",
       "    </tr>\n",
       "    <tr>\n",
       "      <th>Площадь</th>\n",
       "      <td>6.609352e-01</td>\n",
       "      <td>1.000000</td>\n",
       "      <td>0.098311</td>\n",
       "      <td>6.759426e-01</td>\n",
       "      <td>-0.210376</td>\n",
       "      <td>-0.415425</td>\n",
       "      <td>0.866628</td>\n",
       "    </tr>\n",
       "    <tr>\n",
       "      <th>Этаж</th>\n",
       "      <td>2.487469e-01</td>\n",
       "      <td>0.098311</td>\n",
       "      <td>1.000000</td>\n",
       "      <td>-2.886751e-02</td>\n",
       "      <td>-0.574612</td>\n",
       "      <td>0.601338</td>\n",
       "      <td>0.040698</td>\n",
       "    </tr>\n",
       "    <tr>\n",
       "      <th>Центр?</th>\n",
       "      <td>1.328697e-17</td>\n",
       "      <td>0.675943</td>\n",
       "      <td>-0.028868</td>\n",
       "      <td>1.000000e+00</td>\n",
       "      <td>-0.462910</td>\n",
       "      <td>-0.462910</td>\n",
       "      <td>0.937718</td>\n",
       "    </tr>\n",
       "    <tr>\n",
       "      <th>Спальный1?</th>\n",
       "      <td>2.216013e-01</td>\n",
       "      <td>-0.210376</td>\n",
       "      <td>-0.574612</td>\n",
       "      <td>-4.629100e-01</td>\n",
       "      <td>1.000000</td>\n",
       "      <td>-0.571429</td>\n",
       "      <td>-0.412126</td>\n",
       "    </tr>\n",
       "    <tr>\n",
       "      <th>Спальный 2?</th>\n",
       "      <td>-2.216013e-01</td>\n",
       "      <td>-0.415425</td>\n",
       "      <td>0.601338</td>\n",
       "      <td>-4.629100e-01</td>\n",
       "      <td>-0.571429</td>\n",
       "      <td>1.000000</td>\n",
       "      <td>-0.456032</td>\n",
       "    </tr>\n",
       "    <tr>\n",
       "      <th>Цена</th>\n",
       "      <td>2.476680e-01</td>\n",
       "      <td>0.866628</td>\n",
       "      <td>0.040698</td>\n",
       "      <td>9.377178e-01</td>\n",
       "      <td>-0.412126</td>\n",
       "      <td>-0.456032</td>\n",
       "      <td>1.000000</td>\n",
       "    </tr>\n",
       "  </tbody>\n",
       "</table>\n",
       "</div>"
      ],
      "text/plain": [
       "                  Комнаты   Площадь      Этаж        Центр?  Спальный1?  \\\n",
       "Комнаты      1.000000e+00  0.660935  0.248747  1.328697e-17    0.221601   \n",
       "Площадь      6.609352e-01  1.000000  0.098311  6.759426e-01   -0.210376   \n",
       "Этаж         2.487469e-01  0.098311  1.000000 -2.886751e-02   -0.574612   \n",
       "Центр?       1.328697e-17  0.675943 -0.028868  1.000000e+00   -0.462910   \n",
       "Спальный1?   2.216013e-01 -0.210376 -0.574612 -4.629100e-01    1.000000   \n",
       "Спальный 2? -2.216013e-01 -0.415425  0.601338 -4.629100e-01   -0.571429   \n",
       "Цена         2.476680e-01  0.866628  0.040698  9.377178e-01   -0.412126   \n",
       "\n",
       "             Спальный 2?      Цена  \n",
       "Комнаты        -0.221601  0.247668  \n",
       "Площадь        -0.415425  0.866628  \n",
       "Этаж            0.601338  0.040698  \n",
       "Центр?         -0.462910  0.937718  \n",
       "Спальный1?     -0.571429 -0.412126  \n",
       "Спальный 2?     1.000000 -0.456032  \n",
       "Цена           -0.456032  1.000000  "
      ]
     },
     "execution_count": 11,
     "metadata": {},
     "output_type": "execute_result"
    }
   ],
   "source": [
    "C = data.corr(method='pearson')\n",
    "C"
   ]
  },
  {
   "cell_type": "code",
   "execution_count": 12,
   "metadata": {},
   "outputs": [
    {
     "data": {
      "text/plain": [
       "6"
      ]
     },
     "execution_count": 12,
     "metadata": {},
     "output_type": "execute_result"
    }
   ],
   "source": [
    "np.linalg.matrix_rank(C)"
   ]
  },
  {
   "cell_type": "code",
   "execution_count": 13,
   "metadata": {},
   "outputs": [
    {
     "data": {
      "text/plain": [
       "Index(['Комнаты', 'Площадь', 'Этаж', 'Центр?', 'Спальный1?', 'Спальный 2?',\n",
       "       'Цена'],\n",
       "      dtype='object')"
      ]
     },
     "execution_count": 13,
     "metadata": {},
     "output_type": "execute_result"
    }
   ],
   "source": [
    "data.columns"
   ]
  },
  {
   "cell_type": "code",
   "execution_count": 14,
   "metadata": {},
   "outputs": [],
   "source": [
    "X =  data.loc[:,['Комнаты', 'Площадь', 'Этаж', 'Центр?', 'Спальный1?', 'Спальный 2?']].values\n",
    "Y = data['Цена'].values"
   ]
  },
  {
   "cell_type": "code",
   "execution_count": 15,
   "metadata": {},
   "outputs": [],
   "source": [
    "def best_worst(x, y):\n",
    "    A = np.concatenate([y.reshape((y.shape[0], 1)), x], axis=1).T\n",
    "    B = np.abs(np.corrcoef(A)[0][1:])\n",
    "    return np.argmax(B), np.argmin(B)"
   ]
  },
  {
   "cell_type": "code",
   "execution_count": 16,
   "metadata": {},
   "outputs": [
    {
     "data": {
      "text/plain": [
       "(3, 2)"
      ]
     },
     "execution_count": 16,
     "metadata": {},
     "output_type": "execute_result"
    }
   ],
   "source": [
    "best_worst(X,Y)"
   ]
  },
  {
   "cell_type": "markdown",
   "metadata": {},
   "source": [
    "ЗАДАНИЕ 3"
   ]
  },
  {
   "cell_type": "markdown",
   "metadata": {},
   "source": [
    "Входные данные: матрица признаков  в виде numpy-массива."
   ]
  },
  {
   "cell_type": "markdown",
   "metadata": {},
   "source": [
    "Результат: напишите функцию corr_rank(X), возвращающую одно число — ранг корреляционной матрицы."
   ]
  },
  {
   "cell_type": "code",
   "execution_count": 17,
   "metadata": {},
   "outputs": [],
   "source": [
    "def corr_rank(X):\n",
    "    a = X.T\n",
    "    c = np.corrcoef(a)\n",
    "    return np.linalg.matrix_rank(c)"
   ]
  },
  {
   "cell_type": "code",
   "execution_count": 29,
   "metadata": {},
   "outputs": [
    {
     "data": {
      "text/plain": [
       "5"
      ]
     },
     "execution_count": 29,
     "metadata": {},
     "output_type": "execute_result"
    }
   ],
   "source": [
    "corr_rank(X)"
   ]
  },
  {
   "cell_type": "markdown",
   "metadata": {},
   "source": [
    "ЗАДАНИЕ 4"
   ]
  },
  {
   "cell_type": "markdown",
   "metadata": {},
   "source": [
    "Входные данные: матрица  в виде numpy-массива"
   ]
  },
  {
   "cell_type": "markdown",
   "metadata": {},
   "source": [
    "Результат: напишите функцию inverse_matrix(A), которая вернёт None, если матрица необратима (то есть её определитель по абсолютному значению меньше ), либо вернёт обратную матрицу в виде numpy-массива."
   ]
  },
  {
   "cell_type": "code",
   "execution_count": 18,
   "metadata": {},
   "outputs": [],
   "source": [
    "def inverse_matrix(A):\n",
    "    if abs(np.linalg.det(A)) > 0.001:\n",
    "        return np.linalg.inv(A)\n",
    "     \n",
    "   "
   ]
  },
  {
   "cell_type": "code",
   "execution_count": 19,
   "metadata": {},
   "outputs": [],
   "source": [
    "# Пример входных данных:\n",
    "A = np.array([[1, 2], [2, 1]])"
   ]
  },
  {
   "cell_type": "markdown",
   "metadata": {},
   "source": [
    "Пример результата:\n",
    "array([[-0.33333333, 0.66666667],\n",
    "[ 0.66666667, -0.33333333]])"
   ]
  },
  {
   "cell_type": "code",
   "execution_count": 20,
   "metadata": {},
   "outputs": [
    {
     "data": {
      "text/plain": [
       "array([[-0.33333333,  0.66666667],\n",
       "       [ 0.66666667, -0.33333333]])"
      ]
     },
     "execution_count": 20,
     "metadata": {},
     "output_type": "execute_result"
    }
   ],
   "source": [
    "inverse_matrix(A)"
   ]
  },
  {
   "cell_type": "code",
   "execution_count": 21,
   "metadata": {},
   "outputs": [
    {
     "data": {
      "text/plain": [
       "-2.9999999999999996"
      ]
     },
     "execution_count": 21,
     "metadata": {},
     "output_type": "execute_result"
    }
   ],
   "source": [
    "np.linalg.det(A)"
   ]
  },
  {
   "cell_type": "code",
   "execution_count": 22,
   "metadata": {},
   "outputs": [
    {
     "data": {
      "text/plain": [
       "array([[-0.33333333,  0.66666667],\n",
       "       [ 0.66666667, -0.33333333]])"
      ]
     },
     "execution_count": 22,
     "metadata": {},
     "output_type": "execute_result"
    }
   ],
   "source": [
    "np.linalg.inv(A)"
   ]
  },
  {
   "cell_type": "markdown",
   "metadata": {},
   "source": [
    "ЗАДАНИЕ 5"
   ]
  },
  {
   "cell_type": "markdown",
   "metadata": {},
   "source": [
    "Построить линейную модель методом OLS."
   ]
  },
  {
   "cell_type": "markdown",
   "metadata": {},
   "source": [
    "Входные данные: матрица признаков X в виде numpy-массива и вектор цен y в виде numpy-массива. X имеет форму (m, n) — m строк, по строке на каждую квартиру, n признаков для каждой квартиры. Y имеет форму (m), это вектор из m элементов — цены всех m квартир."
   ]
  },
  {
   "cell_type": "markdown",
   "metadata": {},
   "source": [
    "Результат: напишите функцию fit_model(X, y), которая вернёт numpy-массив с оптимальными коэффициентами a"
   ]
  },
  {
   "cell_type": "code",
   "execution_count": 26,
   "metadata": {},
   "outputs": [],
   "source": [
    "X =  data.loc[:,['Комнаты', 'Площадь', 'Этаж', 'Центр?', 'Спальный1?', 'Спальный 2?']].values\n",
    "y = data['Цена'].values"
   ]
  },
  {
   "cell_type": "code",
   "execution_count": 27,
   "metadata": {},
   "outputs": [],
   "source": [
    "def fit_model(X, y):\n",
    "    return ((inv((X.T)@X))@X.T)@y"
   ]
  },
  {
   "cell_type": "code",
   "execution_count": 28,
   "metadata": {},
   "outputs": [
    {
     "data": {
      "text/plain": [
       "array([-574.12295766,   65.33255763,  141.80223878, 1566.16246224,\n",
       "         12.32450391, -315.34552489])"
      ]
     },
     "execution_count": 28,
     "metadata": {},
     "output_type": "execute_result"
    }
   ],
   "source": [
    "fit_model(X, y)"
   ]
  },
  {
   "cell_type": "code",
   "execution_count": null,
   "metadata": {},
   "outputs": [],
   "source": []
  }
 ],
 "metadata": {
  "kernelspec": {
   "display_name": "Python 3 (ipykernel)",
   "language": "python",
   "name": "python3"
  },
  "language_info": {
   "codemirror_mode": {
    "name": "ipython",
    "version": 3
   },
   "file_extension": ".py",
   "mimetype": "text/x-python",
   "name": "python",
   "nbconvert_exporter": "python",
   "pygments_lexer": "ipython3",
   "version": "3.9.7"
  }
 },
 "nbformat": 4,
 "nbformat_minor": 4
}
